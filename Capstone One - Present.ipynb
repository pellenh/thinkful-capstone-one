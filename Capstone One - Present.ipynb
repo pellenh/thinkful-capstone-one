{
 "cells": [
  {
   "cell_type": "code",
   "execution_count": 1,
   "metadata": {
    "slideshow": {
     "slide_type": "skip"
    }
   },
   "outputs": [
    {
     "data": {
      "text/html": [
       "<script>\n",
       "code_show=true; \n",
       "function code_toggle() {\n",
       " if (code_show){\n",
       " $('div.input').hide();\n",
       " } else {\n",
       " $('div.input').show();\n",
       " }\n",
       " code_show = !code_show\n",
       "} \n",
       "$( document ).ready(code_toggle);\n",
       "</script>\n",
       "The raw code for this IPython notebook is by default hidden for easier reading.\n",
       "To toggle on/off the raw code, click <a href=\"javascript:code_toggle()\">here</a>."
      ],
      "text/plain": [
       "<IPython.core.display.HTML object>"
      ]
     },
     "execution_count": 1,
     "metadata": {},
     "output_type": "execute_result"
    }
   ],
   "source": [
    "# Source:\n",
    "# http://blog.nextgenetics.net/?e=102\n",
    "from IPython.display import HTML\n",
    "\n",
    "HTML('''<script>\n",
    "code_show=true; \n",
    "function code_toggle() {\n",
    " if (code_show){\n",
    " $('div.input').hide();\n",
    " } else {\n",
    " $('div.input').show();\n",
    " }\n",
    " code_show = !code_show\n",
    "} \n",
    "$( document ).ready(code_toggle);\n",
    "</script>\n",
    "The raw code for this IPython notebook is by default hidden for easier reading.\n",
    "To toggle on/off the raw code, click <a href=\"javascript:code_toggle()\">here</a>.''')"
   ]
  },
  {
   "cell_type": "code",
   "execution_count": 4,
   "metadata": {
    "slideshow": {
     "slide_type": "notes"
    }
   },
   "outputs": [
    {
     "name": "stdout",
     "output_type": "stream",
     "text": [
      "(2243939, 10)\n",
      "<class 'pandas.core.frame.DataFrame'>\n",
      "RangeIndex: 2243939 entries, 0 to 2243938\n",
      "Data columns (total 10 columns):\n",
      "ID                   object\n",
      "Severity             int64\n",
      "Start_Lat            float64\n",
      "Start_Lng            float64\n",
      "City                 object\n",
      "State                object\n",
      "Zipcode              object\n",
      "Visibility(mi)       float64\n",
      "Precipitation(in)    float64\n",
      "Weather_Condition    object\n",
      "dtypes: float64(4), int64(1), object(5)\n",
      "memory usage: 171.2+ MB\n",
      "               ID\n",
      "            count\n",
      "Severity         \n",
      "0              17\n",
      "1             814\n",
      "2         1455524\n",
      "3          715582\n",
      "4           72002\n"
     ]
    }
   ],
   "source": [
    "# Set up environment\n",
    "\n",
    "import pandas as pd\n",
    "import matplotlib.pyplot as plt\n",
    "import seaborn as sns\n",
    "sns.set()\n",
    "import warnings\n",
    "warnings.filterwarnings('ignore')\n",
    "\n",
    "# importing dataset\n",
    "acdnts = pd.read_csv('Users/eph/Desktop/Thinkful/US_Accidents_May19.csv')\n",
    "\n",
    "# dropping columns not used in this analysis\n",
    "acdnts_df = acdnts.drop(['Source', 'TMC', 'Start_Time', 'End_Time', 'End_Lat',\n",
    "                        'End_Lng', 'Description', 'Number', 'Street', 'Side',\n",
    "                        'Country', 'Timezone', 'Airport_Code', 'Weather_Timestamp', \n",
    "                        'Astronomical_Twilight', 'Nautical_Twilight', 'Civil_Twilight', \n",
    "                        'Sunrise_Sunset', 'Turning_Loop', 'Traffic_Signal', 'Traffic_Calming',\n",
    "                         'Stop', 'Station', 'Roundabout', 'Railway', 'No_Exit', 'Junction',\n",
    "                         'Give_Way', 'Crossing', 'Bump', 'Amenity', 'Wind_Speed(mph)',\n",
    "                         'Wind_Direction', 'Pressure(in)', 'Humidity(%)', 'Wind_Chill(F)',\n",
    "                         'Temperature(F)', 'County', 'Distance(mi)'], axis=1)\n",
    "                         \n",
    "print(acdnts_df.shape)\n",
    "                         \n",
    "acdnts_df.info()     \n",
    "acdnts_df.head()     \n",
    "\n",
    "print(acdnts_df[['ID']].groupby(acdnts_df['Severity']).agg(['count']))"
   ]
  },
  {
   "cell_type": "code",
   "execution_count": 5,
   "metadata": {
    "slideshow": {
     "slide_type": "notes"
    }
   },
   "outputs": [
    {
     "data": {
      "text/plain": [
       "Precipitation(in)    0\n",
       "dtype: int64"
      ]
     },
     "execution_count": 5,
     "metadata": {},
     "output_type": "execute_result"
    }
   ],
   "source": [
    "# data documentation states precipitation is null where there is none\n",
    "# filling this field accordingly\n",
    "acdnts_df['Precipitation(in)'] = acdnts_df['Precipitation(in)'].fillna(0)\n",
    "acdnts_df[['Precipitation(in)']].isna().sum()"
   ]
  },
  {
   "cell_type": "markdown",
   "metadata": {
    "slideshow": {
     "slide_type": "slide"
    }
   },
   "source": [
    "# Analysis of US Traffic Accidents\n",
    "### Adverse weather's effect on accident occurrence and impact on traffic\n",
    "\n",
    "## Ellen Hoffman\n",
    "\n",
    "## January 2, 2020"
   ]
  },
  {
   "cell_type": "markdown",
   "metadata": {
    "slideshow": {
     "slide_type": "slide"
    }
   },
   "source": [
    "- Nobody likes traffic."
   ]
  },
  {
   "cell_type": "markdown",
   "metadata": {
    "slideshow": {
     "slide_type": "fragment"
    }
   },
   "source": [
    "- Nobody likes traffic accidents."
   ]
  },
  {
   "cell_type": "markdown",
   "metadata": {
    "slideshow": {
     "slide_type": "fragment"
    }
   },
   "source": [
    "- In general, it is more challenging to drive in rain, snow and other adverse weather than in clear conditions."
   ]
  },
  {
   "cell_type": "markdown",
   "metadata": {
    "slideshow": {
     "slide_type": "fragment"
    }
   },
   "source": [
    "- In general, adverse weather is associated with more accidents and traffic."
   ]
  },
  {
   "cell_type": "markdown",
   "metadata": {
    "slideshow": {
     "slide_type": "slide"
    }
   },
   "source": [
    "## But is there a statistical correlation between weather, accidents, and traffic?"
   ]
  },
  {
   "cell_type": "markdown",
   "metadata": {
    "slideshow": {
     "slide_type": "slide"
    }
   },
   "source": [
    "## Surprisingly, most accidents in the US take place in clear conditions"
   ]
  },
  {
   "cell_type": "code",
   "execution_count": 6,
   "metadata": {
    "slideshow": {
     "slide_type": "fragment"
    }
   },
   "outputs": [
    {
     "data": {
      "image/png": "[encoded data removed]",
      "text/plain": [
       "<Figure size 432x288 with 1 Axes>"
      ]
     },
     "metadata": {
      "needs_background": "light"
     },
     "output_type": "display_data"
    }
   ],
   "source": [
    "acdnts_df['Weather_Condition'].value_counts().head(10).plot('barh')\n",
    "plt.xlabel('Number of Accidents')\n",
    "plt.ylabel('Weather Conditions')\n",
    "plt.title('Weather with the Highest Occurrence of Traffic Accidents')\n",
    "plt.show()"
   ]
  },
  {
   "cell_type": "markdown",
   "metadata": {
    "slideshow": {
     "slide_type": "slide"
    }
   },
   "source": [
    "## When there is no precipitation"
   ]
  },
  {
   "cell_type": "code",
   "execution_count": 7,
   "metadata": {
    "slideshow": {
     "slide_type": "fragment"
    }
   },
   "outputs": [
    {
     "data": {
      "image/png": "[encoded data removed]",
      "text/plain": [
       "<Figure size 432x288 with 1 Axes>"
      ]
     },
     "metadata": {
      "needs_background": "light"
     },
     "output_type": "display_data"
    }
   ],
   "source": [
    "sns.boxplot(x ='Precipitation(in)', data=acdnts_df)\n",
    "plt.title('Distribution of Precipitation')\n",
    "plt.show()"
   ]
  },
  {
   "cell_type": "markdown",
   "metadata": {
    "slideshow": {
     "slide_type": "slide"
    }
   },
   "source": [
    "## And about 10 miles of visibility."
   ]
  },
  {
   "cell_type": "code",
   "execution_count": 8,
   "metadata": {
    "slideshow": {
     "slide_type": "fragment"
    }
   },
   "outputs": [
    {
     "data": {
      "image/png": "[encoded data removed]",
      "text/plain": [
       "<Figure size 432x288 with 1 Axes>"
      ]
     },
     "metadata": {
      "needs_background": "light"
     },
     "output_type": "display_data"
    }
   ],
   "source": [
    "sns.boxplot(x ='Visibility(mi)', data=acdnts_df)\n",
    "plt.title('Distribution of Visibility')\n",
    "plt.show()"
   ]
  },
  {
   "cell_type": "markdown",
   "metadata": {
    "slideshow": {
     "slide_type": "slide"
    }
   },
   "source": [
    "## Relatively sunny states experience the highest rates of traffic accidents."
   ]
  },
  {
   "cell_type": "code",
   "execution_count": 32,
   "metadata": {
    "slideshow": {
     "slide_type": "fragment"
    }
   },
   "outputs": [
    {
     "data": {
      "image/png": "[encoded data removed]",
      "text/plain": [
       "<Figure size 432x288 with 1 Axes>"
      ]
     },
     "metadata": {
      "needs_background": "light"
     },
     "output_type": "display_data"
    }
   ],
   "source": [
    "acdnts_df['State'].value_counts().head(10).plot('barh')\n",
    "plt.xlabel('Number of Accidents')\n",
    "plt.ylabel('State')\n",
    "plt.title('States with the Highest Occurrence of Traffic Accidents')\n",
    "plt.show()"
   ]
  },
  {
   "cell_type": "markdown",
   "metadata": {
    "slideshow": {
     "slide_type": "slide"
    }
   },
   "source": [
    "## What about an accident's impact on traffic?"
   ]
  },
  {
   "cell_type": "markdown",
   "metadata": {
    "slideshow": {
     "slide_type": "slide"
    }
   },
   "source": [
    "## Weather conditions do not greatly affect an accident's impact on traffic.\n",
    "#### *Impact on traffic is represented by a 4-point Severity rating, where 1 represents a small impact and 4 represents a large impact."
   ]
  },
  {
   "cell_type": "code",
   "execution_count": 9,
   "metadata": {
    "slideshow": {
     "slide_type": "notes"
    }
   },
   "outputs": [
    {
     "data": {
      "text/plain": [
       "['Clear',\n",
       " 'Overcast',\n",
       " 'Mostly Cloudy',\n",
       " 'Partly Cloudy',\n",
       " 'Scattered Clouds',\n",
       " 'Light Rain',\n",
       " 'Light Snow',\n",
       " 'Haze',\n",
       " 'Rain',\n",
       " 'Fog']"
      ]
     },
     "execution_count": 9,
     "metadata": {},
     "output_type": "execute_result"
    }
   ],
   "source": [
    "top_weather = acdnts_df['Weather_Condition'].value_counts().head(10) \n",
    "list(top_weather.index) # creating a list with top conditions"
   ]
  },
  {
   "cell_type": "code",
   "execution_count": 10,
   "metadata": {
    "slideshow": {
     "slide_type": "fragment"
    }
   },
   "outputs": [
    {
     "data": {
      "image/png": "[encoded data removed]",
      "text/plain": [
       "<Figure size 432x288 with 1 Axes>"
      ]
     },
     "metadata": {
      "needs_background": "light"
     },
     "output_type": "display_data"
    }
   ],
   "source": [
    "mean_severity = acdnts_df.groupby('Weather_Condition')['Severity'].mean().sort_values(ascending=False)\n",
    "mean_severity[list(top_weather.index)].plot('barh')\n",
    "plt.xlabel('Average Severity')\n",
    "plt.ylabel('Weather Condition')\n",
    "plt.title('Average Accident Severity of Top Weather Conditions')\n",
    "plt.show()"
   ]
  },
  {
   "cell_type": "markdown",
   "metadata": {
    "slideshow": {
     "slide_type": "slide"
    }
   },
   "source": [
    "## In fact, there are more accidents with large impacts on traffic in the 'Sunshine State' than in any other."
   ]
  },
  {
   "cell_type": "code",
   "execution_count": 11,
   "metadata": {
    "slideshow": {
     "slide_type": "skip"
    }
   },
   "outputs": [
    {
     "name": "stdout",
     "output_type": "stream",
     "text": [
      "<class 'pandas.core.frame.DataFrame'>\n",
      "Int64Index: 72002 entries, 619 to 2243938\n",
      "Data columns (total 10 columns):\n",
      "ID                   72002 non-null object\n",
      "Severity             72002 non-null int64\n",
      "Start_Lat            72002 non-null float64\n",
      "Start_Lng            72002 non-null float64\n",
      "City                 71990 non-null object\n",
      "State                72002 non-null object\n",
      "Zipcode              71942 non-null object\n",
      "Visibility(mi)       68323 non-null float64\n",
      "Precipitation(in)    72002 non-null float64\n",
      "Weather_Condition    68239 non-null object\n",
      "dtypes: float64(4), int64(1), object(5)\n",
      "memory usage: 6.0+ MB\n"
     ]
    }
   ],
   "source": [
    "# Creating df to look at severity 4 accidents alone\n",
    "acdnts_df4 = acdnts_df[acdnts_df['Severity']==4]\n",
    "acdnts_df4.info()"
   ]
  },
  {
   "cell_type": "code",
   "execution_count": 12,
   "metadata": {
    "scrolled": true,
    "slideshow": {
     "slide_type": "fragment"
    }
   },
   "outputs": [
    {
     "data": {
      "image/png": "[encoded data removed]",
      "text/plain": [
       "<Figure size 432x288 with 1 Axes>"
      ]
     },
     "metadata": {
      "needs_background": "light"
     },
     "output_type": "display_data"
    }
   ],
   "source": [
    "acdnts_df4['State'].value_counts().head(10).plot('bar')\n",
    "plt.xlabel('State')\n",
    "plt.ylabel('Number of Accidents')\n",
    "plt.title('States with the Most Severity 4 Accidents')\n",
    "plt.show()"
   ]
  },
  {
   "cell_type": "markdown",
   "metadata": {
    "slideshow": {
     "slide_type": "slide"
    }
   },
   "source": [
    "## Based on my analysis, more research is needed to find variables that can reliably predict accidents and their impacts on traffic across the U.S. As a next step, I would move past environmental factors to focus on issues like:"
   ]
  },
  {
   "cell_type": "markdown",
   "metadata": {
    "slideshow": {
     "slide_type": "fragment"
    }
   },
   "source": [
    "- Road safety infrastructure"
   ]
  },
  {
   "cell_type": "markdown",
   "metadata": {
    "slideshow": {
     "slide_type": "fragment"
    }
   },
   "source": [
    "- The driving populations of each state"
   ]
  },
  {
   "cell_type": "markdown",
   "metadata": {
    "slideshow": {
     "slide_type": "slide"
    }
   },
   "source": [
    "## Acknowledgments\n",
    "Thank you to Sobhan Moosavi for making this dataset available.\n",
    "\n",
    "Moosavi, Sobhan, Mohammad Hossein Samavatian, Srinivasan Parthasarathy, and Rajiv Ramnath. “A Countrywide Traffic Accident Dataset.”, arXiv preprint arXiv:1906.05409 (2019).\n",
    "\n",
    "Moosavi, Sobhan, Mohammad Hossein Samavatian, Srinivasan Parthasarathy, Radu Teodorescu, and Rajiv Ramnath. “Accident Risk Prediction based on Heterogeneous Sparse Data: New Dataset and Insights.” In proceedings of the 27th ACM SIGSPATIAL International Conference on Advances in Geographic Information Systems, ACM, 2019."
   ]
  },
  {
   "cell_type": "markdown",
   "metadata": {
    "slideshow": {
     "slide_type": "slide"
    }
   },
   "source": [
    "## Questions?"
   ]
  },
  {
   "cell_type": "code",
   "execution_count": null,
   "metadata": {
    "scrolled": true,
    "slideshow": {
     "slide_type": "skip"
    }
   },
   "outputs": [],
   "source": [
    "acdnts_df['Severity'].value_counts().plot('bar')\n",
    "plt.xlabel('Severity')\n",
    "plt.ylabel('Number of Accidents')\n",
    "plt.title('Number of Accidents by Severity')\n",
    "plt.show()"
   ]
  },
  {
   "cell_type": "code",
   "execution_count": null,
   "metadata": {
    "scrolled": true,
    "slideshow": {
     "slide_type": "skip"
    }
   },
   "outputs": [],
   "source": [
    "sns.pairplot(acdnts_df, vars=['Visibility(mi)', 'Precipitation(in)', 'Severity'])\n",
    "print(\"Relationships between Visibility, Precipitation, and Accident Severity\")"
   ]
  }
 ],
 "metadata": {
  "celltoolbar": "Slideshow",
  "kernelspec": {
   "display_name": "Python 3",
   "language": "python",
   "name": "python3"
  },
  "language_info": {
   "codemirror_mode": {
    "name": "ipython",
    "version": 3
   },
   "file_extension": ".py",
   "mimetype": "text/x-python",
   "name": "python",
   "nbconvert_exporter": "python",
   "pygments_lexer": "ipython3",
   "version": "3.7.4"
  }
 },
 "nbformat": 4,
 "nbformat_minor": 2
}
